{
 "cells": [
  {
   "cell_type": "code",
   "execution_count": 2,
   "id": "dfc05821",
   "metadata": {},
   "outputs": [],
   "source": [
    "# Importing Libraries\n",
    "import pandas as pd\n",
    "import numpy as np\n",
    "import matplotlib.pyplot as plt\n",
    "import sklearn\n",
    "import seaborn as sns"
   ]
  },
  {
   "cell_type": "code",
   "execution_count": 3,
   "id": "8dc3dd64",
   "metadata": {},
   "outputs": [
    {
     "data": {
      "text/html": [
       "<div>\n",
       "<style scoped>\n",
       "    .dataframe tbody tr th:only-of-type {\n",
       "        vertical-align: middle;\n",
       "    }\n",
       "\n",
       "    .dataframe tbody tr th {\n",
       "        vertical-align: top;\n",
       "    }\n",
       "\n",
       "    .dataframe thead th {\n",
       "        text-align: right;\n",
       "    }\n",
       "</style>\n",
       "<table border=\"1\" class=\"dataframe\">\n",
       "  <thead>\n",
       "    <tr style=\"text-align: right;\">\n",
       "      <th></th>\n",
       "      <th>Date/Time</th>\n",
       "      <th>Hs</th>\n",
       "      <th>Hmax</th>\n",
       "      <th>Tz</th>\n",
       "      <th>Tp</th>\n",
       "      <th>Peak Direction</th>\n",
       "      <th>SST</th>\n",
       "    </tr>\n",
       "  </thead>\n",
       "  <tbody>\n",
       "    <tr>\n",
       "      <th>0</th>\n",
       "      <td>1/01/17 0:00</td>\n",
       "      <td>-99.900</td>\n",
       "      <td>-99.90</td>\n",
       "      <td>-99.900</td>\n",
       "      <td>-99.900</td>\n",
       "      <td>-99.9</td>\n",
       "      <td>-99.90</td>\n",
       "    </tr>\n",
       "    <tr>\n",
       "      <th>1</th>\n",
       "      <td>1/01/17 0:30</td>\n",
       "      <td>0.875</td>\n",
       "      <td>1.39</td>\n",
       "      <td>4.421</td>\n",
       "      <td>4.506</td>\n",
       "      <td>-99.9</td>\n",
       "      <td>-99.90</td>\n",
       "    </tr>\n",
       "    <tr>\n",
       "      <th>2</th>\n",
       "      <td>1/01/17 1:00</td>\n",
       "      <td>0.763</td>\n",
       "      <td>1.15</td>\n",
       "      <td>4.520</td>\n",
       "      <td>5.513</td>\n",
       "      <td>49.0</td>\n",
       "      <td>25.65</td>\n",
       "    </tr>\n",
       "    <tr>\n",
       "      <th>3</th>\n",
       "      <td>1/01/17 1:30</td>\n",
       "      <td>0.770</td>\n",
       "      <td>1.41</td>\n",
       "      <td>4.582</td>\n",
       "      <td>5.647</td>\n",
       "      <td>75.0</td>\n",
       "      <td>25.50</td>\n",
       "    </tr>\n",
       "    <tr>\n",
       "      <th>4</th>\n",
       "      <td>1/01/17 2:00</td>\n",
       "      <td>0.747</td>\n",
       "      <td>1.16</td>\n",
       "      <td>4.515</td>\n",
       "      <td>5.083</td>\n",
       "      <td>91.0</td>\n",
       "      <td>25.45</td>\n",
       "    </tr>\n",
       "    <tr>\n",
       "      <th>5</th>\n",
       "      <td>1/01/17 2:30</td>\n",
       "      <td>0.718</td>\n",
       "      <td>1.61</td>\n",
       "      <td>4.614</td>\n",
       "      <td>6.181</td>\n",
       "      <td>68.0</td>\n",
       "      <td>25.45</td>\n",
       "    </tr>\n",
       "    <tr>\n",
       "      <th>6</th>\n",
       "      <td>1/01/17 3:00</td>\n",
       "      <td>0.707</td>\n",
       "      <td>1.34</td>\n",
       "      <td>4.568</td>\n",
       "      <td>4.705</td>\n",
       "      <td>73.0</td>\n",
       "      <td>25.50</td>\n",
       "    </tr>\n",
       "    <tr>\n",
       "      <th>7</th>\n",
       "      <td>1/01/17 3:30</td>\n",
       "      <td>0.729</td>\n",
       "      <td>1.21</td>\n",
       "      <td>4.786</td>\n",
       "      <td>4.484</td>\n",
       "      <td>63.0</td>\n",
       "      <td>25.50</td>\n",
       "    </tr>\n",
       "    <tr>\n",
       "      <th>8</th>\n",
       "      <td>1/01/17 4:00</td>\n",
       "      <td>0.733</td>\n",
       "      <td>1.20</td>\n",
       "      <td>4.897</td>\n",
       "      <td>5.042</td>\n",
       "      <td>68.0</td>\n",
       "      <td>25.50</td>\n",
       "    </tr>\n",
       "    <tr>\n",
       "      <th>9</th>\n",
       "      <td>1/01/17 4:30</td>\n",
       "      <td>0.711</td>\n",
       "      <td>1.29</td>\n",
       "      <td>5.019</td>\n",
       "      <td>8.439</td>\n",
       "      <td>66.0</td>\n",
       "      <td>25.50</td>\n",
       "    </tr>\n",
       "  </tbody>\n",
       "</table>\n",
       "</div>"
      ],
      "text/plain": [
       "      Date/Time      Hs   Hmax      Tz      Tp  Peak Direction    SST\n",
       "0  1/01/17 0:00 -99.900 -99.90 -99.900 -99.900           -99.9 -99.90\n",
       "1  1/01/17 0:30   0.875   1.39   4.421   4.506           -99.9 -99.90\n",
       "2  1/01/17 1:00   0.763   1.15   4.520   5.513            49.0  25.65\n",
       "3  1/01/17 1:30   0.770   1.41   4.582   5.647            75.0  25.50\n",
       "4  1/01/17 2:00   0.747   1.16   4.515   5.083            91.0  25.45\n",
       "5  1/01/17 2:30   0.718   1.61   4.614   6.181            68.0  25.45\n",
       "6  1/01/17 3:00   0.707   1.34   4.568   4.705            73.0  25.50\n",
       "7  1/01/17 3:30   0.729   1.21   4.786   4.484            63.0  25.50\n",
       "8  1/01/17 4:00   0.733   1.20   4.897   5.042            68.0  25.50\n",
       "9  1/01/17 4:30   0.711   1.29   5.019   8.439            66.0  25.50"
      ]
     },
     "execution_count": 3,
     "metadata": {},
     "output_type": "execute_result"
    }
   ],
   "source": [
    "# Import path of the file and read\n",
    "df = pd.read_csv('C:/Users/Sha/Desktop/BAN/BAN 230-Applied Data mining and Modelling/Coastal Data System Waves.csv')\n",
    "data = pd.DataFrame(df)\n",
    "data.head(10)"
   ]
  },
  {
   "cell_type": "code",
   "execution_count": 53,
   "id": "f9586961",
   "metadata": {},
   "outputs": [
    {
     "name": "stdout",
     "output_type": "stream",
     "text": [
      "<class 'pandas.core.frame.DataFrame'>\n",
      "RangeIndex: 43730 entries, 0 to 43729\n",
      "Data columns (total 7 columns):\n",
      " #   Column          Non-Null Count  Dtype  \n",
      "---  ------          --------------  -----  \n",
      " 0   Date/Time       43730 non-null  object \n",
      " 1   Hs              43730 non-null  float64\n",
      " 2   Hmax            43730 non-null  float64\n",
      " 3   Tz              43730 non-null  float64\n",
      " 4   Tp              43730 non-null  float64\n",
      " 5   Peak Direction  43730 non-null  float64\n",
      " 6   SST             43730 non-null  float64\n",
      "dtypes: float64(6), object(1)\n",
      "memory usage: 2.3+ MB\n"
     ]
    }
   ],
   "source": [
    "# Iformation about the dataset\n",
    "data.info()"
   ]
  },
  {
   "cell_type": "code",
   "execution_count": 4,
   "id": "e2f93102",
   "metadata": {},
   "outputs": [
    {
     "data": {
      "text/plain": [
       "(43730, 7)"
      ]
     },
     "execution_count": 4,
     "metadata": {},
     "output_type": "execute_result"
    }
   ],
   "source": [
    "# Finding Shape of dataset\n",
    "data.shape"
   ]
  },
  {
   "cell_type": "code",
   "execution_count": 6,
   "id": "8ee96e56",
   "metadata": {},
   "outputs": [
    {
     "data": {
      "text/plain": [
       "Date/Time         0\n",
       "Hs                0\n",
       "Hmax              0\n",
       "Tz                0\n",
       "Tp                0\n",
       "Peak Direction    0\n",
       "SST               0\n",
       "dtype: int64"
      ]
     },
     "execution_count": 6,
     "metadata": {},
     "output_type": "execute_result"
    }
   ],
   "source": [
    "# Finding the missing values before changing the datatypes\n",
    "data.isna().sum()"
   ]
  },
  {
   "cell_type": "code",
   "execution_count": 7,
   "id": "f112e24f",
   "metadata": {},
   "outputs": [
    {
     "data": {
      "text/plain": [
       "Date/Time         0\n",
       "Hs                0\n",
       "Hmax              0\n",
       "Tz                0\n",
       "Tp                0\n",
       "Peak Direction    0\n",
       "SST               0\n",
       "dtype: int64"
      ]
     },
     "execution_count": 7,
     "metadata": {},
     "output_type": "execute_result"
    }
   ],
   "source": [
    "# Finding the NULL values before changing the datatypes\n",
    "data.isnull().sum()"
   ]
  },
  {
   "cell_type": "code",
   "execution_count": 37,
   "id": "b38d87dd",
   "metadata": {},
   "outputs": [],
   "source": [
    "# Dropping Date/Time variable\n",
    "data = data.drop(['Date/Time'], axis=1)"
   ]
  },
  {
   "cell_type": "code",
   "execution_count": 38,
   "id": "c5ec3ffe",
   "metadata": {},
   "outputs": [
    {
     "data": {
      "text/plain": [
       "Hs                float64\n",
       "Hmax              float64\n",
       "Tz                float64\n",
       "Tp                float64\n",
       "Peak Direction    float64\n",
       "SST               float64\n",
       "dtype: object"
      ]
     },
     "execution_count": 38,
     "metadata": {},
     "output_type": "execute_result"
    }
   ],
   "source": [
    "# Checking the datatypes\n",
    "data.dtypes"
   ]
  },
  {
   "cell_type": "code",
   "execution_count": 39,
   "id": "7c94cf38",
   "metadata": {},
   "outputs": [
    {
     "data": {
      "text/html": [
       "<div>\n",
       "<style scoped>\n",
       "    .dataframe tbody tr th:only-of-type {\n",
       "        vertical-align: middle;\n",
       "    }\n",
       "\n",
       "    .dataframe tbody tr th {\n",
       "        vertical-align: top;\n",
       "    }\n",
       "\n",
       "    .dataframe thead th {\n",
       "        text-align: right;\n",
       "    }\n",
       "</style>\n",
       "<table border=\"1\" class=\"dataframe\">\n",
       "  <thead>\n",
       "    <tr style=\"text-align: right;\">\n",
       "      <th></th>\n",
       "      <th>Hs</th>\n",
       "      <th>Hmax</th>\n",
       "      <th>Tz</th>\n",
       "      <th>Tp</th>\n",
       "      <th>Peak Direction</th>\n",
       "      <th>SST</th>\n",
       "    </tr>\n",
       "  </thead>\n",
       "  <tbody>\n",
       "    <tr>\n",
       "      <th>count</th>\n",
       "      <td>43730.00000</td>\n",
       "      <td>43730.000000</td>\n",
       "      <td>43730.000000</td>\n",
       "      <td>43730.000000</td>\n",
       "      <td>43730.000000</td>\n",
       "      <td>43730.000000</td>\n",
       "    </tr>\n",
       "    <tr>\n",
       "      <th>mean</th>\n",
       "      <td>1.04114</td>\n",
       "      <td>1.891776</td>\n",
       "      <td>5.412364</td>\n",
       "      <td>8.794855</td>\n",
       "      <td>97.395703</td>\n",
       "      <td>23.207433</td>\n",
       "    </tr>\n",
       "    <tr>\n",
       "      <th>std</th>\n",
       "      <td>4.48582</td>\n",
       "      <td>4.580724</td>\n",
       "      <td>4.739217</td>\n",
       "      <td>5.358757</td>\n",
       "      <td>28.782570</td>\n",
       "      <td>9.813160</td>\n",
       "    </tr>\n",
       "    <tr>\n",
       "      <th>min</th>\n",
       "      <td>-99.90000</td>\n",
       "      <td>-99.900000</td>\n",
       "      <td>-99.900000</td>\n",
       "      <td>-99.900000</td>\n",
       "      <td>-99.900000</td>\n",
       "      <td>-99.900000</td>\n",
       "    </tr>\n",
       "    <tr>\n",
       "      <th>25%</th>\n",
       "      <td>0.83800</td>\n",
       "      <td>1.410000</td>\n",
       "      <td>4.974000</td>\n",
       "      <td>7.286000</td>\n",
       "      <td>85.000000</td>\n",
       "      <td>21.900000</td>\n",
       "    </tr>\n",
       "    <tr>\n",
       "      <th>50%</th>\n",
       "      <td>1.12900</td>\n",
       "      <td>1.900000</td>\n",
       "      <td>5.525000</td>\n",
       "      <td>8.881000</td>\n",
       "      <td>99.000000</td>\n",
       "      <td>23.950000</td>\n",
       "    </tr>\n",
       "    <tr>\n",
       "      <th>75%</th>\n",
       "      <td>1.54200</td>\n",
       "      <td>2.600000</td>\n",
       "      <td>6.162000</td>\n",
       "      <td>10.663000</td>\n",
       "      <td>116.000000</td>\n",
       "      <td>26.050000</td>\n",
       "    </tr>\n",
       "    <tr>\n",
       "      <th>max</th>\n",
       "      <td>4.25700</td>\n",
       "      <td>7.906000</td>\n",
       "      <td>10.921000</td>\n",
       "      <td>21.121000</td>\n",
       "      <td>358.000000</td>\n",
       "      <td>28.650000</td>\n",
       "    </tr>\n",
       "  </tbody>\n",
       "</table>\n",
       "</div>"
      ],
      "text/plain": [
       "                Hs          Hmax            Tz            Tp  Peak Direction  \\\n",
       "count  43730.00000  43730.000000  43730.000000  43730.000000    43730.000000   \n",
       "mean       1.04114      1.891776      5.412364      8.794855       97.395703   \n",
       "std        4.48582      4.580724      4.739217      5.358757       28.782570   \n",
       "min      -99.90000    -99.900000    -99.900000    -99.900000      -99.900000   \n",
       "25%        0.83800      1.410000      4.974000      7.286000       85.000000   \n",
       "50%        1.12900      1.900000      5.525000      8.881000       99.000000   \n",
       "75%        1.54200      2.600000      6.162000     10.663000      116.000000   \n",
       "max        4.25700      7.906000     10.921000     21.121000      358.000000   \n",
       "\n",
       "                SST  \n",
       "count  43730.000000  \n",
       "mean      23.207433  \n",
       "std        9.813160  \n",
       "min      -99.900000  \n",
       "25%       21.900000  \n",
       "50%       23.950000  \n",
       "75%       26.050000  \n",
       "max       28.650000  "
      ]
     },
     "execution_count": 39,
     "metadata": {},
     "output_type": "execute_result"
    }
   ],
   "source": [
    "# Finding the Descriptive analysis\n",
    "data.describe()"
   ]
  },
  {
   "cell_type": "code",
   "execution_count": 40,
   "id": "f7f12cd0",
   "metadata": {
    "scrolled": true
   },
   "outputs": [
    {
     "data": {
      "image/png": "[encoded data removed]",
      "text/plain": [
       "<Figure size 720x720 with 1 Axes>"
      ]
     },
     "metadata": {
      "needs_background": "light"
     },
     "output_type": "display_data"
    }
   ],
   "source": [
    "# Boxplot for detecting Outliers\n",
    "plt.figure(figsize=(10,10))\n",
    "plt.title('Box plot')\n",
    "sns.boxplot(data = data.loc[:,:], palette='Dark2')\n",
    "plt.show()"
   ]
  },
  {
   "cell_type": "markdown",
   "id": "4bbfc116",
   "metadata": {},
   "source": [
    "# Removing Outliers using the Range"
   ]
  },
  {
   "cell_type": "code",
   "execution_count": 41,
   "id": "1b7c5d2f",
   "metadata": {},
   "outputs": [
    {
     "data": {
      "text/plain": [
       "Int64Index([    0,     1,    41,   854,  1555,  1734,  1797,  2457,  2710,\n",
       "             2711,\n",
       "            ...\n",
       "            42466, 42467, 42555, 43084, 43126, 43127, 43128, 43129, 43239,\n",
       "            43475],\n",
       "           dtype='int64', length=324)"
      ]
     },
     "execution_count": 41,
     "metadata": {},
     "output_type": "execute_result"
    }
   ],
   "source": [
    "outliers = data[(data['Hs'] <0)|(data['Hmax'] <0)|(data['Tz'] <0)|(data['Tp'] <0)|(data['Peak Direction'] <0)|(data['SST'] <0)|(data['Peak Direction'] >180)]\n",
    "outliers.index"
   ]
  },
  {
   "cell_type": "code",
   "execution_count": 42,
   "id": "a31ce940",
   "metadata": {},
   "outputs": [
    {
     "data": {
      "text/html": [
       "<div>\n",
       "<style scoped>\n",
       "    .dataframe tbody tr th:only-of-type {\n",
       "        vertical-align: middle;\n",
       "    }\n",
       "\n",
       "    .dataframe tbody tr th {\n",
       "        vertical-align: top;\n",
       "    }\n",
       "\n",
       "    .dataframe thead th {\n",
       "        text-align: right;\n",
       "    }\n",
       "</style>\n",
       "<table border=\"1\" class=\"dataframe\">\n",
       "  <thead>\n",
       "    <tr style=\"text-align: right;\">\n",
       "      <th></th>\n",
       "      <th>Hs</th>\n",
       "      <th>Hmax</th>\n",
       "      <th>Tz</th>\n",
       "      <th>Tp</th>\n",
       "      <th>Peak Direction</th>\n",
       "      <th>SST</th>\n",
       "    </tr>\n",
       "  </thead>\n",
       "  <tbody>\n",
       "    <tr>\n",
       "      <th>2</th>\n",
       "      <td>0.763</td>\n",
       "      <td>1.15</td>\n",
       "      <td>4.520</td>\n",
       "      <td>5.513</td>\n",
       "      <td>49.0</td>\n",
       "      <td>25.65</td>\n",
       "    </tr>\n",
       "    <tr>\n",
       "      <th>3</th>\n",
       "      <td>0.770</td>\n",
       "      <td>1.41</td>\n",
       "      <td>4.582</td>\n",
       "      <td>5.647</td>\n",
       "      <td>75.0</td>\n",
       "      <td>25.50</td>\n",
       "    </tr>\n",
       "    <tr>\n",
       "      <th>4</th>\n",
       "      <td>0.747</td>\n",
       "      <td>1.16</td>\n",
       "      <td>4.515</td>\n",
       "      <td>5.083</td>\n",
       "      <td>91.0</td>\n",
       "      <td>25.45</td>\n",
       "    </tr>\n",
       "    <tr>\n",
       "      <th>5</th>\n",
       "      <td>0.718</td>\n",
       "      <td>1.61</td>\n",
       "      <td>4.614</td>\n",
       "      <td>6.181</td>\n",
       "      <td>68.0</td>\n",
       "      <td>25.45</td>\n",
       "    </tr>\n",
       "    <tr>\n",
       "      <th>6</th>\n",
       "      <td>0.707</td>\n",
       "      <td>1.34</td>\n",
       "      <td>4.568</td>\n",
       "      <td>4.705</td>\n",
       "      <td>73.0</td>\n",
       "      <td>25.50</td>\n",
       "    </tr>\n",
       "    <tr>\n",
       "      <th>...</th>\n",
       "      <td>...</td>\n",
       "      <td>...</td>\n",
       "      <td>...</td>\n",
       "      <td>...</td>\n",
       "      <td>...</td>\n",
       "      <td>...</td>\n",
       "    </tr>\n",
       "    <tr>\n",
       "      <th>43725</th>\n",
       "      <td>2.299</td>\n",
       "      <td>3.60</td>\n",
       "      <td>9.281</td>\n",
       "      <td>12.765</td>\n",
       "      <td>94.0</td>\n",
       "      <td>21.95</td>\n",
       "    </tr>\n",
       "    <tr>\n",
       "      <th>43726</th>\n",
       "      <td>2.075</td>\n",
       "      <td>3.04</td>\n",
       "      <td>9.303</td>\n",
       "      <td>12.722</td>\n",
       "      <td>95.0</td>\n",
       "      <td>21.95</td>\n",
       "    </tr>\n",
       "    <tr>\n",
       "      <th>43727</th>\n",
       "      <td>2.157</td>\n",
       "      <td>3.43</td>\n",
       "      <td>9.168</td>\n",
       "      <td>12.890</td>\n",
       "      <td>97.0</td>\n",
       "      <td>21.95</td>\n",
       "    </tr>\n",
       "    <tr>\n",
       "      <th>43728</th>\n",
       "      <td>2.087</td>\n",
       "      <td>2.84</td>\n",
       "      <td>8.706</td>\n",
       "      <td>10.963</td>\n",
       "      <td>92.0</td>\n",
       "      <td>21.95</td>\n",
       "    </tr>\n",
       "    <tr>\n",
       "      <th>43729</th>\n",
       "      <td>1.926</td>\n",
       "      <td>2.98</td>\n",
       "      <td>8.509</td>\n",
       "      <td>12.228</td>\n",
       "      <td>84.0</td>\n",
       "      <td>21.95</td>\n",
       "    </tr>\n",
       "  </tbody>\n",
       "</table>\n",
       "<p>43406 rows × 6 columns</p>\n",
       "</div>"
      ],
      "text/plain": [
       "          Hs  Hmax     Tz      Tp  Peak Direction    SST\n",
       "2      0.763  1.15  4.520   5.513            49.0  25.65\n",
       "3      0.770  1.41  4.582   5.647            75.0  25.50\n",
       "4      0.747  1.16  4.515   5.083            91.0  25.45\n",
       "5      0.718  1.61  4.614   6.181            68.0  25.45\n",
       "6      0.707  1.34  4.568   4.705            73.0  25.50\n",
       "...      ...   ...    ...     ...             ...    ...\n",
       "43725  2.299  3.60  9.281  12.765            94.0  21.95\n",
       "43726  2.075  3.04  9.303  12.722            95.0  21.95\n",
       "43727  2.157  3.43  9.168  12.890            97.0  21.95\n",
       "43728  2.087  2.84  8.706  10.963            92.0  21.95\n",
       "43729  1.926  2.98  8.509  12.228            84.0  21.95\n",
       "\n",
       "[43406 rows x 6 columns]"
      ]
     },
     "execution_count": 42,
     "metadata": {},
     "output_type": "execute_result"
    }
   ],
   "source": [
    "Data_Without_Outliers_1=data.drop(outliers.index,axis=0)\n",
    "Data_Without_Outliers_1"
   ]
  },
  {
   "cell_type": "markdown",
   "id": "fc9fba19",
   "metadata": {},
   "source": [
    "# Removing Outliers using the Quantile"
   ]
  },
  {
   "cell_type": "code",
   "execution_count": 43,
   "id": "485f1421",
   "metadata": {},
   "outputs": [
    {
     "data": {
      "text/plain": [
       "Hs                 0.704\n",
       "Hmax               1.190\n",
       "Tz                 1.188\n",
       "Tp                 3.377\n",
       "Peak Direction    31.000\n",
       "SST                4.150\n",
       "dtype: float64"
      ]
     },
     "execution_count": 43,
     "metadata": {},
     "output_type": "execute_result"
    }
   ],
   "source": [
    "#Find the quantiles\n",
    "Q1=data.quantile(0.25)\n",
    "Q2=data.quantile(0.50)\n",
    "Q3=data.quantile(0.75)\n",
    "IQR=Q3-Q1\n",
    "IQR"
   ]
  },
  {
   "cell_type": "code",
   "execution_count": 44,
   "id": "d5aa8858",
   "metadata": {},
   "outputs": [
    {
     "data": {
      "text/plain": [
       "Index(['Hs', 'Hmax', 'Tz', 'Tp', 'Peak Direction', 'SST'], dtype='object')"
      ]
     },
     "execution_count": 44,
     "metadata": {},
     "output_type": "execute_result"
    }
   ],
   "source": [
    "cols=data.columns\n",
    "cols"
   ]
  },
  {
   "cell_type": "code",
   "execution_count": 45,
   "id": "8d83ff3c",
   "metadata": {},
   "outputs": [],
   "source": [
    "Data_Without_Outliers_2= data[~((data[cols]<(Q1-1.5*IQR))|(data[cols]>(Q3 +1.5*IQR))).any(axis=1)]"
   ]
  },
  {
   "cell_type": "code",
   "execution_count": 46,
   "id": "c84c2107",
   "metadata": {},
   "outputs": [
    {
     "data": {
      "text/html": [
       "<div>\n",
       "<style scoped>\n",
       "    .dataframe tbody tr th:only-of-type {\n",
       "        vertical-align: middle;\n",
       "    }\n",
       "\n",
       "    .dataframe tbody tr th {\n",
       "        vertical-align: top;\n",
       "    }\n",
       "\n",
       "    .dataframe thead th {\n",
       "        text-align: right;\n",
       "    }\n",
       "</style>\n",
       "<table border=\"1\" class=\"dataframe\">\n",
       "  <thead>\n",
       "    <tr style=\"text-align: right;\">\n",
       "      <th></th>\n",
       "      <th>Hs</th>\n",
       "      <th>Hmax</th>\n",
       "      <th>Tz</th>\n",
       "      <th>Tp</th>\n",
       "      <th>Peak Direction</th>\n",
       "      <th>SST</th>\n",
       "    </tr>\n",
       "  </thead>\n",
       "  <tbody>\n",
       "    <tr>\n",
       "      <th>2</th>\n",
       "      <td>0.763</td>\n",
       "      <td>1.15</td>\n",
       "      <td>4.520</td>\n",
       "      <td>5.513</td>\n",
       "      <td>49.0</td>\n",
       "      <td>25.65</td>\n",
       "    </tr>\n",
       "    <tr>\n",
       "      <th>3</th>\n",
       "      <td>0.770</td>\n",
       "      <td>1.41</td>\n",
       "      <td>4.582</td>\n",
       "      <td>5.647</td>\n",
       "      <td>75.0</td>\n",
       "      <td>25.50</td>\n",
       "    </tr>\n",
       "    <tr>\n",
       "      <th>4</th>\n",
       "      <td>0.747</td>\n",
       "      <td>1.16</td>\n",
       "      <td>4.515</td>\n",
       "      <td>5.083</td>\n",
       "      <td>91.0</td>\n",
       "      <td>25.45</td>\n",
       "    </tr>\n",
       "    <tr>\n",
       "      <th>5</th>\n",
       "      <td>0.718</td>\n",
       "      <td>1.61</td>\n",
       "      <td>4.614</td>\n",
       "      <td>6.181</td>\n",
       "      <td>68.0</td>\n",
       "      <td>25.45</td>\n",
       "    </tr>\n",
       "    <tr>\n",
       "      <th>6</th>\n",
       "      <td>0.707</td>\n",
       "      <td>1.34</td>\n",
       "      <td>4.568</td>\n",
       "      <td>4.705</td>\n",
       "      <td>73.0</td>\n",
       "      <td>25.50</td>\n",
       "    </tr>\n",
       "    <tr>\n",
       "      <th>...</th>\n",
       "      <td>...</td>\n",
       "      <td>...</td>\n",
       "      <td>...</td>\n",
       "      <td>...</td>\n",
       "      <td>...</td>\n",
       "      <td>...</td>\n",
       "    </tr>\n",
       "    <tr>\n",
       "      <th>43705</th>\n",
       "      <td>1.757</td>\n",
       "      <td>3.12</td>\n",
       "      <td>7.604</td>\n",
       "      <td>12.277</td>\n",
       "      <td>97.0</td>\n",
       "      <td>21.95</td>\n",
       "    </tr>\n",
       "    <tr>\n",
       "      <th>43706</th>\n",
       "      <td>1.766</td>\n",
       "      <td>3.50</td>\n",
       "      <td>7.096</td>\n",
       "      <td>10.156</td>\n",
       "      <td>94.0</td>\n",
       "      <td>22.00</td>\n",
       "    </tr>\n",
       "    <tr>\n",
       "      <th>43707</th>\n",
       "      <td>1.829</td>\n",
       "      <td>3.61</td>\n",
       "      <td>6.956</td>\n",
       "      <td>9.741</td>\n",
       "      <td>102.0</td>\n",
       "      <td>22.00</td>\n",
       "    </tr>\n",
       "    <tr>\n",
       "      <th>43710</th>\n",
       "      <td>2.030</td>\n",
       "      <td>2.99</td>\n",
       "      <td>7.825</td>\n",
       "      <td>11.535</td>\n",
       "      <td>95.0</td>\n",
       "      <td>22.05</td>\n",
       "    </tr>\n",
       "    <tr>\n",
       "      <th>43711</th>\n",
       "      <td>1.952</td>\n",
       "      <td>3.06</td>\n",
       "      <td>7.891</td>\n",
       "      <td>9.822</td>\n",
       "      <td>87.0</td>\n",
       "      <td>22.05</td>\n",
       "    </tr>\n",
       "  </tbody>\n",
       "</table>\n",
       "<p>39995 rows × 6 columns</p>\n",
       "</div>"
      ],
      "text/plain": [
       "          Hs  Hmax     Tz      Tp  Peak Direction    SST\n",
       "2      0.763  1.15  4.520   5.513            49.0  25.65\n",
       "3      0.770  1.41  4.582   5.647            75.0  25.50\n",
       "4      0.747  1.16  4.515   5.083            91.0  25.45\n",
       "5      0.718  1.61  4.614   6.181            68.0  25.45\n",
       "6      0.707  1.34  4.568   4.705            73.0  25.50\n",
       "...      ...   ...    ...     ...             ...    ...\n",
       "43705  1.757  3.12  7.604  12.277            97.0  21.95\n",
       "43706  1.766  3.50  7.096  10.156            94.0  22.00\n",
       "43707  1.829  3.61  6.956   9.741           102.0  22.00\n",
       "43710  2.030  2.99  7.825  11.535            95.0  22.05\n",
       "43711  1.952  3.06  7.891   9.822            87.0  22.05\n",
       "\n",
       "[39995 rows x 6 columns]"
      ]
     },
     "execution_count": 46,
     "metadata": {},
     "output_type": "execute_result"
    }
   ],
   "source": [
    "Data_Without_Outliers_2"
   ]
  },
  {
   "cell_type": "code",
   "execution_count": 47,
   "id": "3a0479f0",
   "metadata": {},
   "outputs": [
    {
     "data": {
      "image/png": "[encoded data removed]",
      "text/plain": [
       "<Figure size 720x720 with 1 Axes>"
      ]
     },
     "metadata": {
      "needs_background": "light"
     },
     "output_type": "display_data"
    }
   ],
   "source": [
    "# Boxplot for detecting Outliers\n",
    "plt.figure(figsize=(10,10))\n",
    "plt.title('Box plot')\n",
    "sns.boxplot(data = Data_Without_Outliers_2.loc[:,:], palette='Dark2')\n",
    "plt.show()"
   ]
  },
  {
   "cell_type": "code",
   "execution_count": 48,
   "id": "54a86783",
   "metadata": {},
   "outputs": [
    {
     "data": {
      "text/html": [
       "<div>\n",
       "<style scoped>\n",
       "    .dataframe tbody tr th:only-of-type {\n",
       "        vertical-align: middle;\n",
       "    }\n",
       "\n",
       "    .dataframe tbody tr th {\n",
       "        vertical-align: top;\n",
       "    }\n",
       "\n",
       "    .dataframe thead th {\n",
       "        text-align: right;\n",
       "    }\n",
       "</style>\n",
       "<table border=\"1\" class=\"dataframe\">\n",
       "  <thead>\n",
       "    <tr style=\"text-align: right;\">\n",
       "      <th></th>\n",
       "      <th>Hs</th>\n",
       "      <th>Hmax</th>\n",
       "      <th>Tz</th>\n",
       "      <th>Tp</th>\n",
       "      <th>Peak Direction</th>\n",
       "      <th>SST</th>\n",
       "    </tr>\n",
       "  </thead>\n",
       "  <tbody>\n",
       "    <tr>\n",
       "      <th>17</th>\n",
       "      <td>0.653</td>\n",
       "      <td>1.21</td>\n",
       "      <td>5.007</td>\n",
       "      <td>6.001</td>\n",
       "      <td>90.0</td>\n",
       "      <td>25.45</td>\n",
       "    </tr>\n",
       "    <tr>\n",
       "      <th>25297</th>\n",
       "      <td>1.459</td>\n",
       "      <td>2.45</td>\n",
       "      <td>7.231</td>\n",
       "      <td>10.193</td>\n",
       "      <td>122.0</td>\n",
       "      <td>22.00</td>\n",
       "    </tr>\n",
       "  </tbody>\n",
       "</table>\n",
       "</div>"
      ],
      "text/plain": [
       "          Hs  Hmax     Tz      Tp  Peak Direction    SST\n",
       "17     0.653  1.21  5.007   6.001            90.0  25.45\n",
       "25297  1.459  2.45  7.231  10.193           122.0  22.00"
      ]
     },
     "execution_count": 48,
     "metadata": {},
     "output_type": "execute_result"
    }
   ],
   "source": [
    "# Removing Duplicated Rows\n",
    "Duplicated_Rows=Data_Without_Outliers_2[Data_Without_Outliers_2.duplicated(keep='first')]\n",
    "Duplicated_Rows"
   ]
  },
  {
   "cell_type": "markdown",
   "id": "bfed9f2b",
   "metadata": {},
   "source": [
    "We have 2 duplicated rows."
   ]
  },
  {
   "cell_type": "code",
   "execution_count": 49,
   "id": "275baf9f",
   "metadata": {},
   "outputs": [
    {
     "data": {
      "text/html": [
       "<div>\n",
       "<style scoped>\n",
       "    .dataframe tbody tr th:only-of-type {\n",
       "        vertical-align: middle;\n",
       "    }\n",
       "\n",
       "    .dataframe tbody tr th {\n",
       "        vertical-align: top;\n",
       "    }\n",
       "\n",
       "    .dataframe thead th {\n",
       "        text-align: right;\n",
       "    }\n",
       "</style>\n",
       "<table border=\"1\" class=\"dataframe\">\n",
       "  <thead>\n",
       "    <tr style=\"text-align: right;\">\n",
       "      <th></th>\n",
       "      <th>Hs</th>\n",
       "      <th>Hmax</th>\n",
       "      <th>Tz</th>\n",
       "      <th>Tp</th>\n",
       "      <th>Peak Direction</th>\n",
       "      <th>SST</th>\n",
       "    </tr>\n",
       "  </thead>\n",
       "  <tbody>\n",
       "    <tr>\n",
       "      <th>2</th>\n",
       "      <td>0.763</td>\n",
       "      <td>1.15</td>\n",
       "      <td>4.520</td>\n",
       "      <td>5.513</td>\n",
       "      <td>49.0</td>\n",
       "      <td>25.65</td>\n",
       "    </tr>\n",
       "    <tr>\n",
       "      <th>3</th>\n",
       "      <td>0.770</td>\n",
       "      <td>1.41</td>\n",
       "      <td>4.582</td>\n",
       "      <td>5.647</td>\n",
       "      <td>75.0</td>\n",
       "      <td>25.50</td>\n",
       "    </tr>\n",
       "    <tr>\n",
       "      <th>4</th>\n",
       "      <td>0.747</td>\n",
       "      <td>1.16</td>\n",
       "      <td>4.515</td>\n",
       "      <td>5.083</td>\n",
       "      <td>91.0</td>\n",
       "      <td>25.45</td>\n",
       "    </tr>\n",
       "    <tr>\n",
       "      <th>5</th>\n",
       "      <td>0.718</td>\n",
       "      <td>1.61</td>\n",
       "      <td>4.614</td>\n",
       "      <td>6.181</td>\n",
       "      <td>68.0</td>\n",
       "      <td>25.45</td>\n",
       "    </tr>\n",
       "    <tr>\n",
       "      <th>6</th>\n",
       "      <td>0.707</td>\n",
       "      <td>1.34</td>\n",
       "      <td>4.568</td>\n",
       "      <td>4.705</td>\n",
       "      <td>73.0</td>\n",
       "      <td>25.50</td>\n",
       "    </tr>\n",
       "    <tr>\n",
       "      <th>...</th>\n",
       "      <td>...</td>\n",
       "      <td>...</td>\n",
       "      <td>...</td>\n",
       "      <td>...</td>\n",
       "      <td>...</td>\n",
       "      <td>...</td>\n",
       "    </tr>\n",
       "    <tr>\n",
       "      <th>43705</th>\n",
       "      <td>1.757</td>\n",
       "      <td>3.12</td>\n",
       "      <td>7.604</td>\n",
       "      <td>12.277</td>\n",
       "      <td>97.0</td>\n",
       "      <td>21.95</td>\n",
       "    </tr>\n",
       "    <tr>\n",
       "      <th>43706</th>\n",
       "      <td>1.766</td>\n",
       "      <td>3.50</td>\n",
       "      <td>7.096</td>\n",
       "      <td>10.156</td>\n",
       "      <td>94.0</td>\n",
       "      <td>22.00</td>\n",
       "    </tr>\n",
       "    <tr>\n",
       "      <th>43707</th>\n",
       "      <td>1.829</td>\n",
       "      <td>3.61</td>\n",
       "      <td>6.956</td>\n",
       "      <td>9.741</td>\n",
       "      <td>102.0</td>\n",
       "      <td>22.00</td>\n",
       "    </tr>\n",
       "    <tr>\n",
       "      <th>43710</th>\n",
       "      <td>2.030</td>\n",
       "      <td>2.99</td>\n",
       "      <td>7.825</td>\n",
       "      <td>11.535</td>\n",
       "      <td>95.0</td>\n",
       "      <td>22.05</td>\n",
       "    </tr>\n",
       "    <tr>\n",
       "      <th>43711</th>\n",
       "      <td>1.952</td>\n",
       "      <td>3.06</td>\n",
       "      <td>7.891</td>\n",
       "      <td>9.822</td>\n",
       "      <td>87.0</td>\n",
       "      <td>22.05</td>\n",
       "    </tr>\n",
       "  </tbody>\n",
       "</table>\n",
       "<p>39993 rows × 6 columns</p>\n",
       "</div>"
      ],
      "text/plain": [
       "          Hs  Hmax     Tz      Tp  Peak Direction    SST\n",
       "2      0.763  1.15  4.520   5.513            49.0  25.65\n",
       "3      0.770  1.41  4.582   5.647            75.0  25.50\n",
       "4      0.747  1.16  4.515   5.083            91.0  25.45\n",
       "5      0.718  1.61  4.614   6.181            68.0  25.45\n",
       "6      0.707  1.34  4.568   4.705            73.0  25.50\n",
       "...      ...   ...    ...     ...             ...    ...\n",
       "43705  1.757  3.12  7.604  12.277            97.0  21.95\n",
       "43706  1.766  3.50  7.096  10.156            94.0  22.00\n",
       "43707  1.829  3.61  6.956   9.741           102.0  22.00\n",
       "43710  2.030  2.99  7.825  11.535            95.0  22.05\n",
       "43711  1.952  3.06  7.891   9.822            87.0  22.05\n",
       "\n",
       "[39993 rows x 6 columns]"
      ]
     },
     "execution_count": 49,
     "metadata": {},
     "output_type": "execute_result"
    }
   ],
   "source": [
    "Cleaned_dataset=Data_Without_Outliers_2.drop(Duplicated_Rows.index)\n",
    "Cleaned_dataset"
   ]
  },
  {
   "cell_type": "code",
   "execution_count": 50,
   "id": "f5c0c25c",
   "metadata": {},
   "outputs": [
    {
     "name": "stdout",
     "output_type": "stream",
     "text": [
      "Shape of the dataset before removing duplicated rows: (39995, 6)\n",
      "Shape of the dataset after removing duplicated rows: (39993, 6)\n"
     ]
    }
   ],
   "source": [
    "print('Shape of the dataset before removing duplicated rows:', Data_Without_Outliers_2.shape)\n",
    "print('Shape of the dataset after removing duplicated rows:', Cleaned_dataset.shape)"
   ]
  },
  {
   "cell_type": "markdown",
   "id": "bb66fa38",
   "metadata": {},
   "source": [
    "# Correlated Features"
   ]
  },
  {
   "cell_type": "code",
   "execution_count": 51,
   "id": "492f0962",
   "metadata": {},
   "outputs": [
    {
     "data": {
      "text/html": [
       "<div>\n",
       "<style scoped>\n",
       "    .dataframe tbody tr th:only-of-type {\n",
       "        vertical-align: middle;\n",
       "    }\n",
       "\n",
       "    .dataframe tbody tr th {\n",
       "        vertical-align: top;\n",
       "    }\n",
       "\n",
       "    .dataframe thead th {\n",
       "        text-align: right;\n",
       "    }\n",
       "</style>\n",
       "<table border=\"1\" class=\"dataframe\">\n",
       "  <thead>\n",
       "    <tr style=\"text-align: right;\">\n",
       "      <th></th>\n",
       "      <th>Hs</th>\n",
       "      <th>Hmax</th>\n",
       "      <th>Tz</th>\n",
       "      <th>Tp</th>\n",
       "      <th>Peak Direction</th>\n",
       "      <th>SST</th>\n",
       "    </tr>\n",
       "  </thead>\n",
       "  <tbody>\n",
       "    <tr>\n",
       "      <th>Hs</th>\n",
       "      <td>1.000000</td>\n",
       "      <td>0.970378</td>\n",
       "      <td>0.354518</td>\n",
       "      <td>-0.083032</td>\n",
       "      <td>-0.079149</td>\n",
       "      <td>0.252428</td>\n",
       "    </tr>\n",
       "    <tr>\n",
       "      <th>Hmax</th>\n",
       "      <td>0.970378</td>\n",
       "      <td>1.000000</td>\n",
       "      <td>0.325240</td>\n",
       "      <td>-0.090145</td>\n",
       "      <td>-0.076589</td>\n",
       "      <td>0.247554</td>\n",
       "    </tr>\n",
       "    <tr>\n",
       "      <th>Tz</th>\n",
       "      <td>0.354518</td>\n",
       "      <td>0.325240</td>\n",
       "      <td>1.000000</td>\n",
       "      <td>0.397579</td>\n",
       "      <td>0.008427</td>\n",
       "      <td>0.021102</td>\n",
       "    </tr>\n",
       "    <tr>\n",
       "      <th>Tp</th>\n",
       "      <td>-0.083032</td>\n",
       "      <td>-0.090145</td>\n",
       "      <td>0.397579</td>\n",
       "      <td>1.000000</td>\n",
       "      <td>0.271974</td>\n",
       "      <td>-0.199656</td>\n",
       "    </tr>\n",
       "    <tr>\n",
       "      <th>Peak Direction</th>\n",
       "      <td>-0.079149</td>\n",
       "      <td>-0.076589</td>\n",
       "      <td>0.008427</td>\n",
       "      <td>0.271974</td>\n",
       "      <td>1.000000</td>\n",
       "      <td>-0.241002</td>\n",
       "    </tr>\n",
       "    <tr>\n",
       "      <th>SST</th>\n",
       "      <td>0.252428</td>\n",
       "      <td>0.247554</td>\n",
       "      <td>0.021102</td>\n",
       "      <td>-0.199656</td>\n",
       "      <td>-0.241002</td>\n",
       "      <td>1.000000</td>\n",
       "    </tr>\n",
       "  </tbody>\n",
       "</table>\n",
       "</div>"
      ],
      "text/plain": [
       "                      Hs      Hmax        Tz        Tp  Peak Direction  \\\n",
       "Hs              1.000000  0.970378  0.354518 -0.083032       -0.079149   \n",
       "Hmax            0.970378  1.000000  0.325240 -0.090145       -0.076589   \n",
       "Tz              0.354518  0.325240  1.000000  0.397579        0.008427   \n",
       "Tp             -0.083032 -0.090145  0.397579  1.000000        0.271974   \n",
       "Peak Direction -0.079149 -0.076589  0.008427  0.271974        1.000000   \n",
       "SST             0.252428  0.247554  0.021102 -0.199656       -0.241002   \n",
       "\n",
       "                     SST  \n",
       "Hs              0.252428  \n",
       "Hmax            0.247554  \n",
       "Tz              0.021102  \n",
       "Tp             -0.199656  \n",
       "Peak Direction -0.241002  \n",
       "SST             1.000000  "
      ]
     },
     "execution_count": 51,
     "metadata": {},
     "output_type": "execute_result"
    }
   ],
   "source": [
    "Correlation_Matrix=Cleaned_dataset.corr()\n",
    "Correlation_Matrix"
   ]
  },
  {
   "cell_type": "code",
   "execution_count": 52,
   "id": "66b9eea3",
   "metadata": {},
   "outputs": [
    {
     "name": "stderr",
     "output_type": "stream",
     "text": [
      "C:\\Users\\Sha\\AppData\\Local\\Temp\\ipykernel_12048\\2490746168.py:3: DeprecationWarning: `np.bool` is a deprecated alias for the builtin `bool`. To silence this warning, use `bool` by itself. Doing this will not modify any behavior and is safe. If you specifically wanted the numpy scalar type, use `np.bool_` here.\n",
      "Deprecated in NumPy 1.20; for more details and guidance: https://numpy.org/devdocs/release/1.20.0-notes.html#deprecations\n",
      "  triangle_upper = np.triu(np.ones_like(Correlation_Matrix, dtype=np.bool))\n"
     ]
    },
    {
     "data": {
      "image/png": "[encoded data removed]",
      "text/plain": [
       "<Figure size 1152x432 with 2 Axes>"
      ]
     },
     "metadata": {
      "needs_background": "light"
     },
     "output_type": "display_data"
    }
   ],
   "source": [
    "# Plotting Correlation Table\n",
    "plt.figure(figsize=(16, 6))\n",
    "triangle_upper = np.triu(np.ones_like(Correlation_Matrix, dtype=np.bool))\n",
    "heatmap = sns.heatmap(Correlation_Matrix, mask=triangle_upper, vmin=-1, vmax=1, annot=True, cmap='BrBG');\n",
    "heatmap.set_title('Triangle Correlation Heatmap', fontdict={'fontsize':12}, pad=12);"
   ]
  },
  {
   "cell_type": "markdown",
   "id": "43ac1667",
   "metadata": {},
   "source": [
    "# Data Transformation "
   ]
  },
  {
   "cell_type": "code",
   "execution_count": 53,
   "id": "0fd43557",
   "metadata": {},
   "outputs": [
    {
     "data": {
      "text/html": [
       "<div>\n",
       "<style scoped>\n",
       "    .dataframe tbody tr th:only-of-type {\n",
       "        vertical-align: middle;\n",
       "    }\n",
       "\n",
       "    .dataframe tbody tr th {\n",
       "        vertical-align: top;\n",
       "    }\n",
       "\n",
       "    .dataframe thead th {\n",
       "        text-align: right;\n",
       "    }\n",
       "</style>\n",
       "<table border=\"1\" class=\"dataframe\">\n",
       "  <thead>\n",
       "    <tr style=\"text-align: right;\">\n",
       "      <th></th>\n",
       "      <th>Hs</th>\n",
       "      <th>Hmax</th>\n",
       "      <th>Tz</th>\n",
       "      <th>Tp</th>\n",
       "      <th>Peak Direction</th>\n",
       "      <th>SST</th>\n",
       "    </tr>\n",
       "  </thead>\n",
       "  <tbody>\n",
       "    <tr>\n",
       "      <th>2</th>\n",
       "      <td>0.763</td>\n",
       "      <td>1.15</td>\n",
       "      <td>4.520</td>\n",
       "      <td>5.513</td>\n",
       "      <td>49.0</td>\n",
       "      <td>25.65</td>\n",
       "    </tr>\n",
       "    <tr>\n",
       "      <th>3</th>\n",
       "      <td>0.770</td>\n",
       "      <td>1.41</td>\n",
       "      <td>4.582</td>\n",
       "      <td>5.647</td>\n",
       "      <td>75.0</td>\n",
       "      <td>25.50</td>\n",
       "    </tr>\n",
       "    <tr>\n",
       "      <th>4</th>\n",
       "      <td>0.747</td>\n",
       "      <td>1.16</td>\n",
       "      <td>4.515</td>\n",
       "      <td>5.083</td>\n",
       "      <td>91.0</td>\n",
       "      <td>25.45</td>\n",
       "    </tr>\n",
       "    <tr>\n",
       "      <th>5</th>\n",
       "      <td>0.718</td>\n",
       "      <td>1.61</td>\n",
       "      <td>4.614</td>\n",
       "      <td>6.181</td>\n",
       "      <td>68.0</td>\n",
       "      <td>25.45</td>\n",
       "    </tr>\n",
       "    <tr>\n",
       "      <th>6</th>\n",
       "      <td>0.707</td>\n",
       "      <td>1.34</td>\n",
       "      <td>4.568</td>\n",
       "      <td>4.705</td>\n",
       "      <td>73.0</td>\n",
       "      <td>25.50</td>\n",
       "    </tr>\n",
       "    <tr>\n",
       "      <th>...</th>\n",
       "      <td>...</td>\n",
       "      <td>...</td>\n",
       "      <td>...</td>\n",
       "      <td>...</td>\n",
       "      <td>...</td>\n",
       "      <td>...</td>\n",
       "    </tr>\n",
       "    <tr>\n",
       "      <th>43705</th>\n",
       "      <td>1.757</td>\n",
       "      <td>3.12</td>\n",
       "      <td>7.604</td>\n",
       "      <td>12.277</td>\n",
       "      <td>97.0</td>\n",
       "      <td>21.95</td>\n",
       "    </tr>\n",
       "    <tr>\n",
       "      <th>43706</th>\n",
       "      <td>1.766</td>\n",
       "      <td>3.50</td>\n",
       "      <td>7.096</td>\n",
       "      <td>10.156</td>\n",
       "      <td>94.0</td>\n",
       "      <td>22.00</td>\n",
       "    </tr>\n",
       "    <tr>\n",
       "      <th>43707</th>\n",
       "      <td>1.829</td>\n",
       "      <td>3.61</td>\n",
       "      <td>6.956</td>\n",
       "      <td>9.741</td>\n",
       "      <td>102.0</td>\n",
       "      <td>22.00</td>\n",
       "    </tr>\n",
       "    <tr>\n",
       "      <th>43710</th>\n",
       "      <td>2.030</td>\n",
       "      <td>2.99</td>\n",
       "      <td>7.825</td>\n",
       "      <td>11.535</td>\n",
       "      <td>95.0</td>\n",
       "      <td>22.05</td>\n",
       "    </tr>\n",
       "    <tr>\n",
       "      <th>43711</th>\n",
       "      <td>1.952</td>\n",
       "      <td>3.06</td>\n",
       "      <td>7.891</td>\n",
       "      <td>9.822</td>\n",
       "      <td>87.0</td>\n",
       "      <td>22.05</td>\n",
       "    </tr>\n",
       "  </tbody>\n",
       "</table>\n",
       "<p>39993 rows × 6 columns</p>\n",
       "</div>"
      ],
      "text/plain": [
       "          Hs  Hmax     Tz      Tp  Peak Direction    SST\n",
       "2      0.763  1.15  4.520   5.513            49.0  25.65\n",
       "3      0.770  1.41  4.582   5.647            75.0  25.50\n",
       "4      0.747  1.16  4.515   5.083            91.0  25.45\n",
       "5      0.718  1.61  4.614   6.181            68.0  25.45\n",
       "6      0.707  1.34  4.568   4.705            73.0  25.50\n",
       "...      ...   ...    ...     ...             ...    ...\n",
       "43705  1.757  3.12  7.604  12.277            97.0  21.95\n",
       "43706  1.766  3.50  7.096  10.156            94.0  22.00\n",
       "43707  1.829  3.61  6.956   9.741           102.0  22.00\n",
       "43710  2.030  2.99  7.825  11.535            95.0  22.05\n",
       "43711  1.952  3.06  7.891   9.822            87.0  22.05\n",
       "\n",
       "[39993 rows x 6 columns]"
      ]
     },
     "execution_count": 53,
     "metadata": {},
     "output_type": "execute_result"
    }
   ],
   "source": [
    "# Pandas Factorize\n",
    "for c in Cleaned_dataset.columns[data.dtypes == 'object']:\n",
    "    Cleaned_dataset[c] = Cleaned_dataset[c].factorize()[0]\n",
    "Cleaned_dataset"
   ]
  },
  {
   "cell_type": "markdown",
   "id": "11c6e2f8",
   "metadata": {},
   "source": [
    "# Normalizing dataset unig MinMaxScalar\n"
   ]
  },
  {
   "cell_type": "code",
   "execution_count": 54,
   "id": "1eb424a6",
   "metadata": {},
   "outputs": [],
   "source": [
    "from sklearn import preprocessing\n",
    "# from sklearn.preprocessing import StandardScaler"
   ]
  },
  {
   "cell_type": "code",
   "execution_count": 55,
   "id": "ad8b62b2",
   "metadata": {},
   "outputs": [
    {
     "data": {
      "text/plain": [
       "array([[0.20355903, 0.16524658, 0.27309408, 0.21479659, 0.08196721,\n",
       "        0.66101695],\n",
       "       [0.20659722, 0.232378  , 0.28626035, 0.2251019 , 0.29508197,\n",
       "        0.6440678 ],\n",
       "       [0.19661458, 0.16782856, 0.27203228, 0.18172729, 0.42622951,\n",
       "        0.63841808],\n",
       "       ...,\n",
       "       [0.66623264, 0.80041312, 0.79040136, 0.53995232, 0.51639344,\n",
       "        0.24858757],\n",
       "       [0.75347222, 0.64033049, 0.9749416 , 0.67792048, 0.45901639,\n",
       "        0.25423729],\n",
       "       [0.71961806, 0.65840434, 0.98895732, 0.54618165, 0.39344262,\n",
       "        0.25423729]])"
      ]
     },
     "execution_count": 55,
     "metadata": {},
     "output_type": "execute_result"
    }
   ],
   "source": [
    "Scaler = preprocessing.MinMaxScaler()\n",
    "Final_data = Scaler.fit_transform(Cleaned_dataset)\n",
    "Final_data"
   ]
  },
  {
   "cell_type": "code",
   "execution_count": 56,
   "id": "ae0e8d62",
   "metadata": {},
   "outputs": [
    {
     "data": {
      "text/html": [
       "<div>\n",
       "<style scoped>\n",
       "    .dataframe tbody tr th:only-of-type {\n",
       "        vertical-align: middle;\n",
       "    }\n",
       "\n",
       "    .dataframe tbody tr th {\n",
       "        vertical-align: top;\n",
       "    }\n",
       "\n",
       "    .dataframe thead th {\n",
       "        text-align: right;\n",
       "    }\n",
       "</style>\n",
       "<table border=\"1\" class=\"dataframe\">\n",
       "  <thead>\n",
       "    <tr style=\"text-align: right;\">\n",
       "      <th></th>\n",
       "      <th>Hs</th>\n",
       "      <th>Hmax</th>\n",
       "      <th>Tz</th>\n",
       "      <th>Tp</th>\n",
       "      <th>Peak Direction</th>\n",
       "      <th>SST</th>\n",
       "    </tr>\n",
       "  </thead>\n",
       "  <tbody>\n",
       "    <tr>\n",
       "      <th>0</th>\n",
       "      <td>0.203559</td>\n",
       "      <td>0.165247</td>\n",
       "      <td>0.273094</td>\n",
       "      <td>0.214797</td>\n",
       "      <td>0.081967</td>\n",
       "      <td>0.661017</td>\n",
       "    </tr>\n",
       "    <tr>\n",
       "      <th>1</th>\n",
       "      <td>0.206597</td>\n",
       "      <td>0.232378</td>\n",
       "      <td>0.286260</td>\n",
       "      <td>0.225102</td>\n",
       "      <td>0.295082</td>\n",
       "      <td>0.644068</td>\n",
       "    </tr>\n",
       "    <tr>\n",
       "      <th>2</th>\n",
       "      <td>0.196615</td>\n",
       "      <td>0.167829</td>\n",
       "      <td>0.272032</td>\n",
       "      <td>0.181727</td>\n",
       "      <td>0.426230</td>\n",
       "      <td>0.638418</td>\n",
       "    </tr>\n",
       "    <tr>\n",
       "      <th>3</th>\n",
       "      <td>0.184028</td>\n",
       "      <td>0.284018</td>\n",
       "      <td>0.293056</td>\n",
       "      <td>0.266169</td>\n",
       "      <td>0.237705</td>\n",
       "      <td>0.638418</td>\n",
       "    </tr>\n",
       "    <tr>\n",
       "      <th>4</th>\n",
       "      <td>0.179253</td>\n",
       "      <td>0.214304</td>\n",
       "      <td>0.283287</td>\n",
       "      <td>0.152657</td>\n",
       "      <td>0.278689</td>\n",
       "      <td>0.644068</td>\n",
       "    </tr>\n",
       "  </tbody>\n",
       "</table>\n",
       "</div>"
      ],
      "text/plain": [
       "         Hs      Hmax        Tz        Tp  Peak Direction       SST\n",
       "0  0.203559  0.165247  0.273094  0.214797        0.081967  0.661017\n",
       "1  0.206597  0.232378  0.286260  0.225102        0.295082  0.644068\n",
       "2  0.196615  0.167829  0.272032  0.181727        0.426230  0.638418\n",
       "3  0.184028  0.284018  0.293056  0.266169        0.237705  0.638418\n",
       "4  0.179253  0.214304  0.283287  0.152657        0.278689  0.644068"
      ]
     },
     "execution_count": 56,
     "metadata": {},
     "output_type": "execute_result"
    }
   ],
   "source": [
    "Final_data = pd.DataFrame(Final_data, columns=Cleaned_dataset.columns)\n",
    "Final_data.head()"
   ]
  },
  {
   "cell_type": "code",
   "execution_count": 57,
   "id": "04f807a6",
   "metadata": {},
   "outputs": [
    {
     "data": {
      "text/html": [
       "<div>\n",
       "<style scoped>\n",
       "    .dataframe tbody tr th:only-of-type {\n",
       "        vertical-align: middle;\n",
       "    }\n",
       "\n",
       "    .dataframe tbody tr th {\n",
       "        vertical-align: top;\n",
       "    }\n",
       "\n",
       "    .dataframe thead th {\n",
       "        text-align: right;\n",
       "    }\n",
       "</style>\n",
       "<table border=\"1\" class=\"dataframe\">\n",
       "  <thead>\n",
       "    <tr style=\"text-align: right;\">\n",
       "      <th></th>\n",
       "      <th>Hs</th>\n",
       "      <th>Hmax</th>\n",
       "      <th>Tz</th>\n",
       "      <th>Tp</th>\n",
       "      <th>Peak Direction</th>\n",
       "      <th>SST</th>\n",
       "    </tr>\n",
       "  </thead>\n",
       "  <tbody>\n",
       "    <tr>\n",
       "      <th>count</th>\n",
       "      <td>39993.000000</td>\n",
       "      <td>39993.000000</td>\n",
       "      <td>39993.000000</td>\n",
       "      <td>39993.000000</td>\n",
       "      <td>39993.000000</td>\n",
       "      <td>39993.000000</td>\n",
       "    </tr>\n",
       "    <tr>\n",
       "      <th>mean</th>\n",
       "      <td>0.395973</td>\n",
       "      <td>0.393778</td>\n",
       "      <td>0.501057</td>\n",
       "      <td>0.486982</td>\n",
       "      <td>0.506521</td>\n",
       "      <td>0.473192</td>\n",
       "    </tr>\n",
       "    <tr>\n",
       "      <th>std</th>\n",
       "      <td>0.205137</td>\n",
       "      <td>0.206178</td>\n",
       "      <td>0.172811</td>\n",
       "      <td>0.173169</td>\n",
       "      <td>0.165766</td>\n",
       "      <td>0.251334</td>\n",
       "    </tr>\n",
       "    <tr>\n",
       "      <th>min</th>\n",
       "      <td>0.000000</td>\n",
       "      <td>0.000000</td>\n",
       "      <td>0.000000</td>\n",
       "      <td>0.000000</td>\n",
       "      <td>0.000000</td>\n",
       "      <td>0.000000</td>\n",
       "    </tr>\n",
       "    <tr>\n",
       "      <th>25%</th>\n",
       "      <td>0.235243</td>\n",
       "      <td>0.232378</td>\n",
       "      <td>0.379698</td>\n",
       "      <td>0.363685</td>\n",
       "      <td>0.401639</td>\n",
       "      <td>0.242938</td>\n",
       "    </tr>\n",
       "    <tr>\n",
       "      <th>50%</th>\n",
       "      <td>0.361111</td>\n",
       "      <td>0.358120</td>\n",
       "      <td>0.486940</td>\n",
       "      <td>0.474583</td>\n",
       "      <td>0.508197</td>\n",
       "      <td>0.474576</td>\n",
       "    </tr>\n",
       "    <tr>\n",
       "      <th>75%</th>\n",
       "      <td>0.531684</td>\n",
       "      <td>0.529305</td>\n",
       "      <td>0.610321</td>\n",
       "      <td>0.605322</td>\n",
       "      <td>0.631148</td>\n",
       "      <td>0.706215</td>\n",
       "    </tr>\n",
       "    <tr>\n",
       "      <th>max</th>\n",
       "      <td>1.000000</td>\n",
       "      <td>1.000000</td>\n",
       "      <td>1.000000</td>\n",
       "      <td>1.000000</td>\n",
       "      <td>1.000000</td>\n",
       "      <td>1.000000</td>\n",
       "    </tr>\n",
       "  </tbody>\n",
       "</table>\n",
       "</div>"
      ],
      "text/plain": [
       "                 Hs          Hmax            Tz            Tp  Peak Direction  \\\n",
       "count  39993.000000  39993.000000  39993.000000  39993.000000    39993.000000   \n",
       "mean       0.395973      0.393778      0.501057      0.486982        0.506521   \n",
       "std        0.205137      0.206178      0.172811      0.173169        0.165766   \n",
       "min        0.000000      0.000000      0.000000      0.000000        0.000000   \n",
       "25%        0.235243      0.232378      0.379698      0.363685        0.401639   \n",
       "50%        0.361111      0.358120      0.486940      0.474583        0.508197   \n",
       "75%        0.531684      0.529305      0.610321      0.605322        0.631148   \n",
       "max        1.000000      1.000000      1.000000      1.000000        1.000000   \n",
       "\n",
       "                SST  \n",
       "count  39993.000000  \n",
       "mean       0.473192  \n",
       "std        0.251334  \n",
       "min        0.000000  \n",
       "25%        0.242938  \n",
       "50%        0.474576  \n",
       "75%        0.706215  \n",
       "max        1.000000  "
      ]
     },
     "execution_count": 57,
     "metadata": {},
     "output_type": "execute_result"
    }
   ],
   "source": [
    "Final_data.describe()"
   ]
  },
  {
   "cell_type": "code",
   "execution_count": 84,
   "id": "70087a0d",
   "metadata": {},
   "outputs": [],
   "source": [
    "y = Final_data.loc[:, Final_data.columns == 'Hs']\n",
    "x = Final_data.loc[:, Final_data.columns != 'Hs']"
   ]
  },
  {
   "cell_type": "code",
   "execution_count": 85,
   "id": "96e07e0d",
   "metadata": {},
   "outputs": [],
   "source": [
    "from sklearn.model_selection import train_test_split\n",
    "x_train, x_test, y_train, y_test = train_test_split(Final_data, y, test_size = 0.3, random_state = 0)"
   ]
  },
  {
   "cell_type": "code",
   "execution_count": 78,
   "id": "ae23c10d",
   "metadata": {},
   "outputs": [
    {
     "data": {
      "text/plain": [
       "(27995, 6)"
      ]
     },
     "execution_count": 78,
     "metadata": {},
     "output_type": "execute_result"
    }
   ],
   "source": [
    "x_train.shape"
   ]
  },
  {
   "cell_type": "code",
   "execution_count": 79,
   "id": "1c99c811",
   "metadata": {},
   "outputs": [
    {
     "data": {
      "text/plain": [
       "(27995, 1)"
      ]
     },
     "execution_count": 79,
     "metadata": {},
     "output_type": "execute_result"
    }
   ],
   "source": [
    "y_train.shape"
   ]
  },
  {
   "cell_type": "code",
   "execution_count": 80,
   "id": "a23fa241",
   "metadata": {},
   "outputs": [
    {
     "data": {
      "text/plain": [
       "(11998, 6)"
      ]
     },
     "execution_count": 80,
     "metadata": {},
     "output_type": "execute_result"
    }
   ],
   "source": [
    "x_test.shape"
   ]
  },
  {
   "cell_type": "code",
   "execution_count": 81,
   "id": "f27a746a",
   "metadata": {},
   "outputs": [
    {
     "data": {
      "text/plain": [
       "(11998, 1)"
      ]
     },
     "execution_count": 81,
     "metadata": {},
     "output_type": "execute_result"
    }
   ],
   "source": [
    "y_test.shape"
   ]
  },
  {
   "cell_type": "markdown",
   "id": "47b972c9",
   "metadata": {},
   "source": [
    "# Linear Regression Model"
   ]
  },
  {
   "cell_type": "code",
   "execution_count": 86,
   "id": "375d9617",
   "metadata": {},
   "outputs": [],
   "source": [
    "import statsmodels.api as sm"
   ]
  },
  {
   "cell_type": "code",
   "execution_count": 87,
   "id": "ae60526b",
   "metadata": {},
   "outputs": [
    {
     "data": {
      "text/html": [
       "<table class=\"simpletable\">\n",
       "<caption>OLS Regression Results</caption>\n",
       "<tr>\n",
       "  <th>Dep. Variable:</th>           <td>Hs</td>        <th>  R-squared (uncentered):</th>       <td>   1.000</td> \n",
       "</tr>\n",
       "<tr>\n",
       "  <th>Model:</th>                   <td>OLS</td>       <th>  Adj. R-squared (uncentered):</th>  <td>   1.000</td> \n",
       "</tr>\n",
       "<tr>\n",
       "  <th>Method:</th>             <td>Least Squares</td>  <th>  F-statistic:       </th>           <td>8.697e+34</td>\n",
       "</tr>\n",
       "<tr>\n",
       "  <th>Date:</th>             <td>Sat, 15 Oct 2022</td> <th>  Prob (F-statistic):</th>            <td>  0.00</td>  \n",
       "</tr>\n",
       "<tr>\n",
       "  <th>Time:</th>                 <td>22:53:31</td>     <th>  Log-Likelihood:    </th>          <td>9.9071e+05</td>\n",
       "</tr>\n",
       "<tr>\n",
       "  <th>No. Observations:</th>      <td> 27995</td>      <th>  AIC:               </th>          <td>-1.981e+06</td>\n",
       "</tr>\n",
       "<tr>\n",
       "  <th>Df Residuals:</th>          <td> 27989</td>      <th>  BIC:               </th>          <td>-1.981e+06</td>\n",
       "</tr>\n",
       "<tr>\n",
       "  <th>Df Model:</th>              <td>     6</td>      <th>                     </th>               <td> </td>    \n",
       "</tr>\n",
       "<tr>\n",
       "  <th>Covariance Type:</th>      <td>nonrobust</td>    <th>                     </th>               <td> </td>    \n",
       "</tr>\n",
       "</table>\n",
       "<table class=\"simpletable\">\n",
       "<tr>\n",
       "         <td></td>           <th>coef</th>     <th>std err</th>      <th>t</th>      <th>P>|t|</th>  <th>[0.025</th>    <th>0.975]</th>  \n",
       "</tr>\n",
       "<tr>\n",
       "  <th>Hs</th>             <td>    1.0000</td> <td> 1.27e-17</td> <td> 7.85e+16</td> <td> 0.000</td> <td>    1.000</td> <td>    1.000</td>\n",
       "</tr>\n",
       "<tr>\n",
       "  <th>Hmax</th>           <td>-1.787e-16</td> <td> 1.25e-17</td> <td>  -14.325</td> <td> 0.000</td> <td>-2.03e-16</td> <td>-1.54e-16</td>\n",
       "</tr>\n",
       "<tr>\n",
       "  <th>Tz</th>             <td>-1.301e-17</td> <td> 4.19e-18</td> <td>   -3.109</td> <td> 0.002</td> <td>-2.12e-17</td> <td>-4.81e-18</td>\n",
       "</tr>\n",
       "<tr>\n",
       "  <th>Tp</th>             <td>  1.36e-16</td> <td> 4.04e-18</td> <td>   33.638</td> <td> 0.000</td> <td> 1.28e-16</td> <td> 1.44e-16</td>\n",
       "</tr>\n",
       "<tr>\n",
       "  <th>Peak Direction</th> <td> 1.258e-16</td> <td> 3.26e-18</td> <td>   38.523</td> <td> 0.000</td> <td> 1.19e-16</td> <td> 1.32e-16</td>\n",
       "</tr>\n",
       "<tr>\n",
       "  <th>SST</th>            <td> 4.597e-17</td> <td>  2.3e-18</td> <td>   19.945</td> <td> 0.000</td> <td> 4.15e-17</td> <td> 5.05e-17</td>\n",
       "</tr>\n",
       "</table>\n",
       "<table class=\"simpletable\">\n",
       "<tr>\n",
       "  <th>Omnibus:</th>       <td>2526.500</td> <th>  Durbin-Watson:     </th> <td>   0.856</td>\n",
       "</tr>\n",
       "<tr>\n",
       "  <th>Prob(Omnibus):</th>  <td> 0.000</td>  <th>  Jarque-Bera (JB):  </th> <td>3303.627</td>\n",
       "</tr>\n",
       "<tr>\n",
       "  <th>Skew:</th>           <td> 0.784</td>  <th>  Prob(JB):          </th> <td>    0.00</td>\n",
       "</tr>\n",
       "<tr>\n",
       "  <th>Kurtosis:</th>       <td> 3.610</td>  <th>  Cond. No.          </th> <td>    33.1</td>\n",
       "</tr>\n",
       "</table><br/><br/>Notes:<br/>[1] R² is computed without centering (uncentered) since the model does not contain a constant.<br/>[2] Standard Errors assume that the covariance matrix of the errors is correctly specified."
      ],
      "text/plain": [
       "<class 'statsmodels.iolib.summary.Summary'>\n",
       "\"\"\"\n",
       "                                 OLS Regression Results                                \n",
       "=======================================================================================\n",
       "Dep. Variable:                     Hs   R-squared (uncentered):                   1.000\n",
       "Model:                            OLS   Adj. R-squared (uncentered):              1.000\n",
       "Method:                 Least Squares   F-statistic:                          8.697e+34\n",
       "Date:                Sat, 15 Oct 2022   Prob (F-statistic):                        0.00\n",
       "Time:                        22:53:31   Log-Likelihood:                      9.9071e+05\n",
       "No. Observations:               27995   AIC:                                 -1.981e+06\n",
       "Df Residuals:                   27989   BIC:                                 -1.981e+06\n",
       "Df Model:                           6                                                  \n",
       "Covariance Type:            nonrobust                                                  \n",
       "==================================================================================\n",
       "                     coef    std err          t      P>|t|      [0.025      0.975]\n",
       "----------------------------------------------------------------------------------\n",
       "Hs                 1.0000   1.27e-17   7.85e+16      0.000       1.000       1.000\n",
       "Hmax           -1.787e-16   1.25e-17    -14.325      0.000   -2.03e-16   -1.54e-16\n",
       "Tz             -1.301e-17   4.19e-18     -3.109      0.002   -2.12e-17   -4.81e-18\n",
       "Tp               1.36e-16   4.04e-18     33.638      0.000    1.28e-16    1.44e-16\n",
       "Peak Direction  1.258e-16   3.26e-18     38.523      0.000    1.19e-16    1.32e-16\n",
       "SST             4.597e-17    2.3e-18     19.945      0.000    4.15e-17    5.05e-17\n",
       "==============================================================================\n",
       "Omnibus:                     2526.500   Durbin-Watson:                   0.856\n",
       "Prob(Omnibus):                  0.000   Jarque-Bera (JB):             3303.627\n",
       "Skew:                           0.784   Prob(JB):                         0.00\n",
       "Kurtosis:                       3.610   Cond. No.                         33.1\n",
       "==============================================================================\n",
       "\n",
       "Notes:\n",
       "[1] R² is computed without centering (uncentered) since the model does not contain a constant.\n",
       "[2] Standard Errors assume that the covariance matrix of the errors is correctly specified.\n",
       "\"\"\""
      ]
     },
     "execution_count": 87,
     "metadata": {},
     "output_type": "execute_result"
    }
   ],
   "source": [
    "Linear_model = sm.OLS(y_train, x_train)\n",
    "Linear_model_ets = Linear_model.fit()\n",
    "Linear_model_ets.summary()"
   ]
  },
  {
   "cell_type": "markdown",
   "id": "a0e2877a",
   "metadata": {},
   "source": [
    "R²:\n",
    "R² is the coefficient of determination that tells us that how much percentage variation dependent variable can be explained by independent variable. Here, 100 % variation in Y can be explained by X. The maximum possible value of R2  can be 1, means the larger the R2  value better the regression.\n",
    "\n",
    "Skewness & Kurtosis:\n",
    "Skewness is 0.784 which means slightly positive skewed and Kurtosis is 3.610 means the distribution is having heavier tails than normal distribution with positive kurtosis.\n",
    "\n",
    "P value:\n",
    "The p-value is <0.05, which tells us that the intercept terms are statistically different than zero.\n"
   ]
  }
 ],
 "metadata": {
  "kernelspec": {
   "display_name": "Python 3 (ipykernel)",
   "language": "python",
   "name": "python3"
  },
  "language_info": {
   "codemirror_mode": {
    "name": "ipython",
    "version": 3
   },
   "file_extension": ".py",
   "mimetype": "text/x-python",
   "name": "python",
   "nbconvert_exporter": "python",
   "pygments_lexer": "ipython3",
   "version": "3.9.12"
  }
 },
 "nbformat": 4,
 "nbformat_minor": 5
}
